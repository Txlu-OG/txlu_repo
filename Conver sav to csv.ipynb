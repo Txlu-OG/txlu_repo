{
 "cells": [
  {
   "cell_type": "code",
   "execution_count": 1,
   "id": "e02bde90",
   "metadata": {},
   "outputs": [
    {
     "name": "stdout",
     "output_type": "stream",
     "text": [
      "Requirement already satisfied: pandas in /Users/m1/anaconda3/lib/python3.11/site-packages (1.5.3)\n",
      "Collecting pyreadstat\n",
      "  Downloading pyreadstat-1.2.7-cp311-cp311-macosx_11_0_arm64.whl.metadata (1.0 kB)\n",
      "Requirement already satisfied: python-dateutil>=2.8.1 in /Users/m1/anaconda3/lib/python3.11/site-packages (from pandas) (2.8.2)\n",
      "Requirement already satisfied: pytz>=2020.1 in /Users/m1/anaconda3/lib/python3.11/site-packages (from pandas) (2022.7)\n",
      "Requirement already satisfied: numpy>=1.21.0 in /Users/m1/anaconda3/lib/python3.11/site-packages (from pandas) (1.24.3)\n",
      "Requirement already satisfied: six>=1.5 in /Users/m1/anaconda3/lib/python3.11/site-packages (from python-dateutil>=2.8.1->pandas) (1.16.0)\n",
      "Downloading pyreadstat-1.2.7-cp311-cp311-macosx_11_0_arm64.whl (544 kB)\n",
      "\u001b[2K   \u001b[90m━━━━━━━━━━━━━━━━━━━━━━━━━━━━━━━━━━━━━━━\u001b[0m \u001b[32m544.4/544.4 kB\u001b[0m \u001b[31m864.4 kB/s\u001b[0m eta \u001b[36m0:00:00\u001b[0m00:01\u001b[0m00:01\u001b[0m\n",
      "\u001b[?25hInstalling collected packages: pyreadstat\n",
      "Successfully installed pyreadstat-1.2.7\n",
      "Note: you may need to restart the kernel to use updated packages.\n"
     ]
    }
   ],
   "source": [
    "pip install pandas pyreadstat"
   ]
  },
  {
   "cell_type": "code",
   "execution_count": 2,
   "id": "05c77c63",
   "metadata": {},
   "outputs": [
    {
     "name": "stdout",
     "output_type": "stream",
     "text": [
      "File converted successfully and saved to /Users/m1/Downloads/Lassa Fever_Dataset_NCDC.csv\n"
     ]
    }
   ],
   "source": [
    "import pandas as pd\n",
    "import pyreadstat\n",
    "\n",
    "# Specify the path to your .sav file\n",
    "sav_file_path = '/Users/m1/Downloads/Lassa Fever_Dataset_NCDC.sav'\n",
    "\n",
    "# Specify the path where you want to save the .csv file\n",
    "csv_file_path = '/Users/m1/Downloads/Lassa Fever_Dataset_NCDC.csv'\n",
    "\n",
    "# Read the .sav file\n",
    "df, meta = pyreadstat.read_sav(sav_file_path)\n",
    "\n",
    "# Save the DataFrame to a .csv file\n",
    "df.to_csv(csv_file_path, index=False)\n",
    "\n",
    "print(f\"File converted successfully and saved to {csv_file_path}\")\n"
   ]
  },
  {
   "cell_type": "code",
   "execution_count": 1,
   "id": "c750534d",
   "metadata": {},
   "outputs": [
    {
     "name": "stdout",
     "output_type": "stream",
     "text": [
      "File converted successfully and saved to /Users/m1/Downloads/Lassa Fever_Dataset_NCDC2.csv\n"
     ]
    }
   ],
   "source": [
    "import pandas as pd\n",
    "import pyreadstat\n",
    "\n",
    "# Specify the path to your .sav file\n",
    "sav_file_path = '/Users/m1/Downloads/Lassa Fever_Dataset_NCDC.sav'\n",
    "\n",
    "# Specify the path where you want to save the .csv file\n",
    "csv_file_path = '/Users/m1/Downloads/Lassa Fever_Dataset_NCDC2.csv'\n",
    "\n",
    "# Read the .sav file\n",
    "df, meta = pyreadstat.read_sav(sav_file_path)\n",
    "\n",
    "# Convert categorical variables to strings\n",
    "for column in df.select_dtypes(['category']).columns:\n",
    "    df[column] = df[column].astype(str)\n",
    "\n",
    "# Save the DataFrame to a .csv file\n",
    "df.to_csv(csv_file_path, index=False)\n",
    "\n",
    "print(f\"File converted successfully and saved to {csv_file_path}\")\n"
   ]
  },
  {
   "cell_type": "code",
   "execution_count": 2,
   "id": "e7d8636c",
   "metadata": {},
   "outputs": [
    {
     "name": "stdout",
     "output_type": "stream",
     "text": [
      "Requirement already satisfied: pandas in /Users/m1/anaconda3/lib/python3.11/site-packages (1.5.3)\n",
      "Requirement already satisfied: pyreadstat in /Users/m1/anaconda3/lib/python3.11/site-packages (1.2.7)\n",
      "Requirement already satisfied: openpyxl in /Users/m1/anaconda3/lib/python3.11/site-packages (3.0.10)\n",
      "Requirement already satisfied: python-dateutil>=2.8.1 in /Users/m1/anaconda3/lib/python3.11/site-packages (from pandas) (2.8.2)\n",
      "Requirement already satisfied: pytz>=2020.1 in /Users/m1/anaconda3/lib/python3.11/site-packages (from pandas) (2022.7)\n",
      "Requirement already satisfied: numpy>=1.21.0 in /Users/m1/anaconda3/lib/python3.11/site-packages (from pandas) (1.24.3)\n",
      "Requirement already satisfied: et_xmlfile in /Users/m1/anaconda3/lib/python3.11/site-packages (from openpyxl) (1.1.0)\n",
      "Requirement already satisfied: six>=1.5 in /Users/m1/anaconda3/lib/python3.11/site-packages (from python-dateutil>=2.8.1->pandas) (1.16.0)\n",
      "Note: you may need to restart the kernel to use updated packages.\n"
     ]
    }
   ],
   "source": [
    "pip install pandas pyreadstat openpyxl"
   ]
  },
  {
   "cell_type": "code",
   "execution_count": 1,
   "id": "d05654af",
   "metadata": {},
   "outputs": [
    {
     "name": "stdout",
     "output_type": "stream",
     "text": [
      "File converted successfully and saved to /Users/m1/Downloads/Lassa Fever_Dataset_NCDC3.xlsx\n"
     ]
    }
   ],
   "source": [
    "import pandas as pd\n",
    "import pyreadstat\n",
    "\n",
    "# Specify the path to your .sav file\n",
    "sav_file_path = '/Users/m1/Downloads/Lassa Fever_Dataset_NCDC.sav'\n",
    "\n",
    "# Specify the path where you want to save the .xlsx file\n",
    "xlsx_file_path = '/Users/m1/Downloads/Lassa Fever_Dataset_NCDC3.xlsx'\n",
    "\n",
    "# Read the .sav file\n",
    "df, meta = pyreadstat.read_sav(sav_file_path)\n",
    "\n",
    "# Convert categorical variables to strings\n",
    "for column in df.select_dtypes(['category']).columns:\n",
    "    df[column] = df[column].astype(str)\n",
    "\n",
    "# Save the DataFrame to an Excel file\n",
    "df.to_excel(xlsx_file_path, index=False)\n",
    "\n",
    "print(f\"File converted successfully and saved to {xlsx_file_path}\")\n"
   ]
  },
  {
   "cell_type": "code",
   "execution_count": null,
   "id": "2c961630",
   "metadata": {},
   "outputs": [],
   "source": []
  }
 ],
 "metadata": {
  "kernelspec": {
   "display_name": "Python 3 (ipykernel)",
   "language": "python",
   "name": "python3"
  },
  "language_info": {
   "codemirror_mode": {
    "name": "ipython",
    "version": 3
   },
   "file_extension": ".py",
   "mimetype": "text/x-python",
   "name": "python",
   "nbconvert_exporter": "python",
   "pygments_lexer": "ipython3",
   "version": "3.11.4"
  }
 },
 "nbformat": 4,
 "nbformat_minor": 5
}
