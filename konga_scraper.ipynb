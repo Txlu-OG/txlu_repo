{
 "cells": [
  {
   "cell_type": "code",
   "execution_count": 4,
   "id": "3a0f99ef",
   "metadata": {},
   "outputs": [],
   "source": [
    "import requests\n",
    "from bs4 import BeautifulSoup\n",
    "import pandas as pd\n",
    "from selenium import webdriver\n",
    "from selenium.webdriver.common.by import By\n",
    "from selenium.webdriver.chrome.service import Service\n",
    "from webdriver_manager.chrome import ChromeDriverManager\n",
    "import time"
   ]
  },
  {
   "cell_type": "code",
   "execution_count": 5,
   "id": "722ded60",
   "metadata": {},
   "outputs": [],
   "source": [
    "# Initialize Selenium WebDriver\n",
    "driver = webdriver.Chrome(service=Service(ChromeDriverManager().install()))"
   ]
  },
  {
   "cell_type": "code",
   "execution_count": 6,
   "id": "d271509a",
   "metadata": {},
   "outputs": [],
   "source": [
    "# Function to extract product links from a category page\n",
    "def get_product_links(category_url, num_pages=25):\n",
    "    product_links = []\n",
    "    for page in range(1, num_pages + 1):\n",
    "        driver.get(f\"{category_url}?page={page}\")\n",
    "        time.sleep(5)  # Wait for the page to load\n",
    "        soup = BeautifulSoup(driver.page_source, 'html.parser')\n",
    "        \n",
    "        # Update the selector to match Konga's HTML structure for product links\n",
    "        for link in soup.select('ul > li > div > div > a'):\n",
    "            product_links.append('https://www.konga.com' + link['href'])\n",
    "    \n",
    "    return product_links"
   ]
  },
  {
   "cell_type": "code",
   "execution_count": 7,
   "id": "30532627",
   "metadata": {},
   "outputs": [],
   "source": [
    "# Function to extract reviews from a product page\n",
    "def get_reviews(product_url):\n",
    "    driver.get(product_url)\n",
    "    time.sleep(5)\n",
    "    soup = BeautifulSoup(driver.page_source, 'html.parser')\n",
    "    reviews = []\n",
    "    \n",
    "    while True:\n",
    "        # Update the selector to match Konga's HTML structure for reviews\n",
    "        review_elements = soup.select('div._42878_20oAo > div:nth-child(4) > div')\n",
    "        for element in review_elements:\n",
    "            review_text = element.find('p').text.strip()\n",
    "            rating = element.find('div').text.strip()  # Update based on actual HTML structure\n",
    "            reviews.append({'product_url': product_url, 'review_text': review_text, 'rating': rating})\n",
    "\n",
    "        # Check for the presence of a 'Next' button and click it if found\n",
    "        next_button = soup.find('a', {'aria-label': 'Next'})\n",
    "        if next_button:\n",
    "            next_button.click()\n",
    "            time.sleep(5)\n",
    "        else:\n",
    "            break\n",
    "    \n",
    "    return reviews"
   ]
  },
  {
   "cell_type": "code",
   "execution_count": 8,
   "id": "18072854",
   "metadata": {},
   "outputs": [],
   "source": [
    "# Main function to scrape reviews from the Fashion category\n",
    "def scrape_konga_fashion_reviews():\n",
    "    category_url = 'https://www.konga.com/category/konga-fashion-1259'  # Replace with the actual category URL\n",
    "    product_links = get_product_links(category_url, num_pages=25)  # Set to 25 to scrape all pages\n",
    "    all_reviews = []\n",
    "\n",
    "    for product_url in product_links:\n",
    "        reviews = get_reviews(product_url)\n",
    "        all_reviews.extend(reviews)\n",
    "\n",
    "    # Save all reviews to a DataFrame\n",
    "    df = pd.DataFrame(all_reviews)\n",
    "    df.to_csv('konga_fashion_reviews.csv', index=False)\n",
    "\n",
    "    # Close the driver\n",
    "    driver.quit()\n",
    "\n",
    "# Run the scraping process\n",
    "scrape_konga_fashion_reviews()"
   ]
  },
  {
   "cell_type": "code",
   "execution_count": 9,
   "id": "7b01edbc",
   "metadata": {},
   "outputs": [
    {
     "ename": "NameError",
     "evalue": "name 'konga_scraper' is not defined",
     "output_type": "error",
     "traceback": [
      "\u001b[0;31m---------------------------------------------------------------------------\u001b[0m",
      "\u001b[0;31mNameError\u001b[0m                                 Traceback (most recent call last)",
      "Cell \u001b[0;32mIn[9], line 1\u001b[0m\n\u001b[0;32m----> 1\u001b[0m konga_scraper\u001b[38;5;241m.\u001b[39mpy\n",
      "\u001b[0;31mNameError\u001b[0m: name 'konga_scraper' is not defined"
     ]
    }
   ],
   "source": []
  },
  {
   "cell_type": "code",
   "execution_count": null,
   "id": "e8dcfa6c",
   "metadata": {},
   "outputs": [],
   "source": []
  }
 ],
 "metadata": {
  "kernelspec": {
   "display_name": "Python 3 (ipykernel)",
   "language": "python",
   "name": "python3"
  },
  "language_info": {
   "codemirror_mode": {
    "name": "ipython",
    "version": 3
   },
   "file_extension": ".py",
   "mimetype": "text/x-python",
   "name": "python",
   "nbconvert_exporter": "python",
   "pygments_lexer": "ipython3",
   "version": "3.11.4"
  }
 },
 "nbformat": 4,
 "nbformat_minor": 5
}
